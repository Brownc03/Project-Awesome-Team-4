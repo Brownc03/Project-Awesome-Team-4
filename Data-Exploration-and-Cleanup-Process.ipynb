{
 "cells": [
  {
   "cell_type": "markdown",
   "metadata": {},
   "source": [
    "# Data Exploration and Cleanup Process"
   ]
  },
  {
   "cell_type": "code",
   "execution_count": 3,
   "metadata": {},
   "outputs": [],
   "source": [
    "import pandas as pd\n",
    "from config import open_key\n",
    "import numpy as np\n",
    "import requests\n",
    "import time\n",
    "from scipy.stats import linregress\n",
    "from matplotlib import pyplot as plt\n",
    "import json"
   ]
  },
  {
   "cell_type": "markdown",
   "metadata": {},
   "source": [
    "#### Compiling Chicago Cubs Attendance Data from 2015 - 2019."
   ]
  },
  {
   "cell_type": "code",
   "execution_count": 5,
   "metadata": {},
   "outputs": [],
   "source": [
    "# Load Attendance and Game Data\n",
    "cubs_2015_2019 = \"Resources/2015_2019CubsAttendanceBreakdownX.xls\"\n",
    "\n",
    "# Read Attendance and Game Data\n",
    "cubs_df = pd.read_excel(cubs_2015_2019)"
   ]
  },
  {
   "cell_type": "code",
   "execution_count": 7,
   "metadata": {},
   "outputs": [
    {
     "data": {
      "text/html": [
       "<div>\n",
       "<style scoped>\n",
       "    .dataframe tbody tr th:only-of-type {\n",
       "        vertical-align: middle;\n",
       "    }\n",
       "\n",
       "    .dataframe tbody tr th {\n",
       "        vertical-align: top;\n",
       "    }\n",
       "\n",
       "    .dataframe thead th {\n",
       "        text-align: right;\n",
       "    }\n",
       "</style>\n",
       "<table border=\"1\" class=\"dataframe\">\n",
       "  <thead>\n",
       "    <tr style=\"text-align: right;\">\n",
       "      <th></th>\n",
       "      <th>Gm#</th>\n",
       "      <th>Day</th>\n",
       "      <th>Month</th>\n",
       "      <th>Date</th>\n",
       "      <th>Season</th>\n",
       "      <th>Tm</th>\n",
       "      <th>Opp</th>\n",
       "      <th>Wins / Loss</th>\n",
       "      <th>Wins</th>\n",
       "      <th>Loses</th>\n",
       "      <th>Win %</th>\n",
       "      <th>Dayay / Nightight Game</th>\n",
       "      <th>Attendance</th>\n",
       "      <th>Time Code</th>\n",
       "    </tr>\n",
       "  </thead>\n",
       "  <tbody>\n",
       "    <tr>\n",
       "      <th>0</th>\n",
       "      <td>1</td>\n",
       "      <td>Sunday</td>\n",
       "      <td>April</td>\n",
       "      <td>4-5-2015</td>\n",
       "      <td>2015</td>\n",
       "      <td>CHC</td>\n",
       "      <td>STL</td>\n",
       "      <td>L</td>\n",
       "      <td>0</td>\n",
       "      <td>1</td>\n",
       "      <td>0.000000</td>\n",
       "      <td>Night</td>\n",
       "      <td>35055</td>\n",
       "      <td>42099.770833</td>\n",
       "    </tr>\n",
       "    <tr>\n",
       "      <th>1</th>\n",
       "      <td>2</td>\n",
       "      <td>Wednesday</td>\n",
       "      <td>April</td>\n",
       "      <td>4-8-2015</td>\n",
       "      <td>2015</td>\n",
       "      <td>CHC</td>\n",
       "      <td>STL</td>\n",
       "      <td>W</td>\n",
       "      <td>1</td>\n",
       "      <td>1</td>\n",
       "      <td>0.500000</td>\n",
       "      <td>Day</td>\n",
       "      <td>26814</td>\n",
       "      <td>42102.562500</td>\n",
       "    </tr>\n",
       "    <tr>\n",
       "      <th>2</th>\n",
       "      <td>6</td>\n",
       "      <td>Monday</td>\n",
       "      <td>April</td>\n",
       "      <td>4-13-2015</td>\n",
       "      <td>2015</td>\n",
       "      <td>CHC</td>\n",
       "      <td>CIN</td>\n",
       "      <td>W</td>\n",
       "      <td>4</td>\n",
       "      <td>2</td>\n",
       "      <td>0.666667</td>\n",
       "      <td>Night</td>\n",
       "      <td>26390</td>\n",
       "      <td>42107.770833</td>\n",
       "    </tr>\n",
       "    <tr>\n",
       "      <th>3</th>\n",
       "      <td>7</td>\n",
       "      <td>Tuesday</td>\n",
       "      <td>April</td>\n",
       "      <td>4-14-2015</td>\n",
       "      <td>2015</td>\n",
       "      <td>CHC</td>\n",
       "      <td>CIN</td>\n",
       "      <td>L</td>\n",
       "      <td>4</td>\n",
       "      <td>3</td>\n",
       "      <td>0.571429</td>\n",
       "      <td>Night</td>\n",
       "      <td>27525</td>\n",
       "      <td>42108.770833</td>\n",
       "    </tr>\n",
       "    <tr>\n",
       "      <th>4</th>\n",
       "      <td>8</td>\n",
       "      <td>Wednesday</td>\n",
       "      <td>April</td>\n",
       "      <td>4-15-2015</td>\n",
       "      <td>2015</td>\n",
       "      <td>CHC</td>\n",
       "      <td>CIN</td>\n",
       "      <td>W</td>\n",
       "      <td>5</td>\n",
       "      <td>3</td>\n",
       "      <td>0.625000</td>\n",
       "      <td>Night</td>\n",
       "      <td>29205</td>\n",
       "      <td>42109.770833</td>\n",
       "    </tr>\n",
       "  </tbody>\n",
       "</table>\n",
       "</div>"
      ],
      "text/plain": [
       "   Gm#        Day  Month       Date  Season   Tm  Opp Wins / Loss  Wins  \\\n",
       "0    1     Sunday  April   4-5-2015    2015  CHC  STL           L     0   \n",
       "1    2  Wednesday  April   4-8-2015    2015  CHC  STL           W     1   \n",
       "2    6     Monday  April  4-13-2015    2015  CHC  CIN           W     4   \n",
       "3    7    Tuesday  April  4-14-2015    2015  CHC  CIN           L     4   \n",
       "4    8  Wednesday  April  4-15-2015    2015  CHC  CIN           W     5   \n",
       "\n",
       "   Loses     Win % Dayay / Nightight Game  Attendance     Time Code  \n",
       "0      1  0.000000                  Night       35055  42099.770833  \n",
       "1      1  0.500000                    Day       26814  42102.562500  \n",
       "2      2  0.666667                  Night       26390  42107.770833  \n",
       "3      3  0.571429                  Night       27525  42108.770833  \n",
       "4      3  0.625000                  Night       29205  42109.770833  "
      ]
     },
     "execution_count": 7,
     "metadata": {},
     "output_type": "execute_result"
    }
   ],
   "source": [
    "cubs_df.head()"
   ]
  },
  {
   "cell_type": "code",
   "execution_count": 9,
   "metadata": {},
   "outputs": [],
   "source": [
    "cubs_time = cubs_df[\"Time Code\"].tolist()"
   ]
  },
  {
   "cell_type": "code",
   "execution_count": null,
   "metadata": {},
   "outputs": [],
   "source": [
    "# Request Weather Info\n",
    "url = \"http://api.openweathermap.org/data/2.5/weather?q=\"\n",
    "\n",
    "# Create Lists to Store Data\n",
    "temp = []\n",
    "hum = []\n",
    "cloud = []\n",
    "wind = []\n",
    "\n",
    "for time in cubs_time\n",
    "    print(f\"Processing Time Code\" {time})\n",
    "    \n",
    "    response = request.get(url)"
   ]
  }
 ],
 "metadata": {
  "kernelspec": {
   "display_name": "Python 3.7.6 64-bit ('PythonData': conda)",
   "language": "python",
   "name": "python37664bitpythondataconda2b8880efb6d34b3eb0c55c8cee5b9b98"
  },
  "language_info": {
   "codemirror_mode": {
    "name": "ipython",
    "version": 3
   },
   "file_extension": ".py",
   "mimetype": "text/x-python",
   "name": "python",
   "nbconvert_exporter": "python",
   "pygments_lexer": "ipython3",
   "version": "3.7.6"
  }
 },
 "nbformat": 4,
 "nbformat_minor": 4
}
