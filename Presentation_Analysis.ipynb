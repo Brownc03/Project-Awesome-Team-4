{
 "cells": [
  {
   "cell_type": "markdown",
   "metadata": {},
   "source": [
    "## Data Analysis and Graphical Creation"
   ]
  },
  {
   "cell_type": "code",
   "execution_count": 6,
   "metadata": {},
   "outputs": [],
   "source": [
    "# Import Dependancies\n",
    "import pandas as pd\n",
    "from config import key\n",
    "import numpy as np\n",
    "import requests\n",
    "import time\n",
    "from scipy.stats import linregress\n",
    "from matplotlib import pyplot as plt\n",
    "import json"
   ]
  },
  {
   "cell_type": "code",
   "execution_count": 10,
   "metadata": {},
   "outputs": [
    {
     "data": {
      "text/html": [
       "<div>\n",
       "<style scoped>\n",
       "    .dataframe tbody tr th:only-of-type {\n",
       "        vertical-align: middle;\n",
       "    }\n",
       "\n",
       "    .dataframe tbody tr th {\n",
       "        vertical-align: top;\n",
       "    }\n",
       "\n",
       "    .dataframe thead th {\n",
       "        text-align: right;\n",
       "    }\n",
       "</style>\n",
       "<table border=\"1\" class=\"dataframe\">\n",
       "  <thead>\n",
       "    <tr style=\"text-align: right;\">\n",
       "      <th></th>\n",
       "      <th>Date</th>\n",
       "      <th>Month</th>\n",
       "      <th>Day</th>\n",
       "      <th>Season</th>\n",
       "      <th>Gm#</th>\n",
       "      <th>Tm</th>\n",
       "      <th>Opp</th>\n",
       "      <th>Win/Loss</th>\n",
       "      <th>Season Wins</th>\n",
       "      <th>Season Losses</th>\n",
       "      <th>...</th>\n",
       "      <th>Day/ Night Game</th>\n",
       "      <th>Attendance</th>\n",
       "      <th>Temperature (F)</th>\n",
       "      <th>Feels Like (F)</th>\n",
       "      <th>Wind Chill (F)</th>\n",
       "      <th>Wind Gust (mph)</th>\n",
       "      <th>Humidity (%)</th>\n",
       "      <th>Cloud Cover (%)</th>\n",
       "      <th>Rain Fall (in)</th>\n",
       "      <th>Snow Fall (cm)</th>\n",
       "    </tr>\n",
       "  </thead>\n",
       "  <tbody>\n",
       "    <tr>\n",
       "      <th>0</th>\n",
       "      <td>2015-04-05</td>\n",
       "      <td>April</td>\n",
       "      <td>Sunday</td>\n",
       "      <td>2015</td>\n",
       "      <td>1</td>\n",
       "      <td>CHC</td>\n",
       "      <td>STL</td>\n",
       "      <td>L</td>\n",
       "      <td>0</td>\n",
       "      <td>1</td>\n",
       "      <td>...</td>\n",
       "      <td>Night</td>\n",
       "      <td>35055</td>\n",
       "      <td>55.0</td>\n",
       "      <td>42.0</td>\n",
       "      <td>42.0</td>\n",
       "      <td>24.0</td>\n",
       "      <td>61.0</td>\n",
       "      <td>31.0</td>\n",
       "      <td>0.0</td>\n",
       "      <td>0.0</td>\n",
       "    </tr>\n",
       "    <tr>\n",
       "      <th>1</th>\n",
       "      <td>2015-04-08</td>\n",
       "      <td>April</td>\n",
       "      <td>Wednesday</td>\n",
       "      <td>2015</td>\n",
       "      <td>2</td>\n",
       "      <td>CHC</td>\n",
       "      <td>STL</td>\n",
       "      <td>W</td>\n",
       "      <td>1</td>\n",
       "      <td>1</td>\n",
       "      <td>...</td>\n",
       "      <td>Day</td>\n",
       "      <td>26814</td>\n",
       "      <td>42.0</td>\n",
       "      <td>35.0</td>\n",
       "      <td>35.0</td>\n",
       "      <td>18.0</td>\n",
       "      <td>93.0</td>\n",
       "      <td>96.0</td>\n",
       "      <td>0.2</td>\n",
       "      <td>0.0</td>\n",
       "    </tr>\n",
       "    <tr>\n",
       "      <th>2</th>\n",
       "      <td>2015-04-13</td>\n",
       "      <td>April</td>\n",
       "      <td>Monday</td>\n",
       "      <td>2015</td>\n",
       "      <td>6</td>\n",
       "      <td>CHC</td>\n",
       "      <td>CIN</td>\n",
       "      <td>W</td>\n",
       "      <td>4</td>\n",
       "      <td>2</td>\n",
       "      <td>...</td>\n",
       "      <td>Night</td>\n",
       "      <td>26390</td>\n",
       "      <td>45.0</td>\n",
       "      <td>37.0</td>\n",
       "      <td>37.0</td>\n",
       "      <td>22.0</td>\n",
       "      <td>80.0</td>\n",
       "      <td>62.0</td>\n",
       "      <td>0.1</td>\n",
       "      <td>0.0</td>\n",
       "    </tr>\n",
       "    <tr>\n",
       "      <th>3</th>\n",
       "      <td>2015-04-14</td>\n",
       "      <td>April</td>\n",
       "      <td>Tuesday</td>\n",
       "      <td>2015</td>\n",
       "      <td>7</td>\n",
       "      <td>CHC</td>\n",
       "      <td>CIN</td>\n",
       "      <td>L</td>\n",
       "      <td>4</td>\n",
       "      <td>3</td>\n",
       "      <td>...</td>\n",
       "      <td>Night</td>\n",
       "      <td>27525</td>\n",
       "      <td>47.0</td>\n",
       "      <td>37.0</td>\n",
       "      <td>37.0</td>\n",
       "      <td>22.0</td>\n",
       "      <td>85.0</td>\n",
       "      <td>60.0</td>\n",
       "      <td>0.1</td>\n",
       "      <td>0.0</td>\n",
       "    </tr>\n",
       "    <tr>\n",
       "      <th>4</th>\n",
       "      <td>2015-04-15</td>\n",
       "      <td>April</td>\n",
       "      <td>Wednesday</td>\n",
       "      <td>2015</td>\n",
       "      <td>8</td>\n",
       "      <td>CHC</td>\n",
       "      <td>CIN</td>\n",
       "      <td>W</td>\n",
       "      <td>5</td>\n",
       "      <td>3</td>\n",
       "      <td>...</td>\n",
       "      <td>Night</td>\n",
       "      <td>29205</td>\n",
       "      <td>51.0</td>\n",
       "      <td>41.0</td>\n",
       "      <td>41.0</td>\n",
       "      <td>27.0</td>\n",
       "      <td>80.0</td>\n",
       "      <td>57.0</td>\n",
       "      <td>0.2</td>\n",
       "      <td>0.0</td>\n",
       "    </tr>\n",
       "    <tr>\n",
       "      <th>...</th>\n",
       "      <td>...</td>\n",
       "      <td>...</td>\n",
       "      <td>...</td>\n",
       "      <td>...</td>\n",
       "      <td>...</td>\n",
       "      <td>...</td>\n",
       "      <td>...</td>\n",
       "      <td>...</td>\n",
       "      <td>...</td>\n",
       "      <td>...</td>\n",
       "      <td>...</td>\n",
       "      <td>...</td>\n",
       "      <td>...</td>\n",
       "      <td>...</td>\n",
       "      <td>...</td>\n",
       "      <td>...</td>\n",
       "      <td>...</td>\n",
       "      <td>...</td>\n",
       "      <td>...</td>\n",
       "      <td>...</td>\n",
       "      <td>...</td>\n",
       "    </tr>\n",
       "    <tr>\n",
       "      <th>400</th>\n",
       "      <td>2019-09-18</td>\n",
       "      <td>September</td>\n",
       "      <td>Wednesday</td>\n",
       "      <td>2019</td>\n",
       "      <td>152</td>\n",
       "      <td>CHC</td>\n",
       "      <td>CIN</td>\n",
       "      <td>L</td>\n",
       "      <td>82</td>\n",
       "      <td>70</td>\n",
       "      <td>...</td>\n",
       "      <td>Night</td>\n",
       "      <td>36578</td>\n",
       "      <td>79.0</td>\n",
       "      <td>74.0</td>\n",
       "      <td>73.0</td>\n",
       "      <td>15.0</td>\n",
       "      <td>70.0</td>\n",
       "      <td>18.0</td>\n",
       "      <td>0.0</td>\n",
       "      <td>0.0</td>\n",
       "    </tr>\n",
       "    <tr>\n",
       "      <th>401</th>\n",
       "      <td>2019-09-19</td>\n",
       "      <td>September</td>\n",
       "      <td>Thursday</td>\n",
       "      <td>2019</td>\n",
       "      <td>153</td>\n",
       "      <td>CHC</td>\n",
       "      <td>STL</td>\n",
       "      <td>L</td>\n",
       "      <td>82</td>\n",
       "      <td>71</td>\n",
       "      <td>...</td>\n",
       "      <td>Night</td>\n",
       "      <td>39524</td>\n",
       "      <td>81.0</td>\n",
       "      <td>77.0</td>\n",
       "      <td>74.0</td>\n",
       "      <td>10.0</td>\n",
       "      <td>65.0</td>\n",
       "      <td>33.0</td>\n",
       "      <td>0.0</td>\n",
       "      <td>0.0</td>\n",
       "    </tr>\n",
       "    <tr>\n",
       "      <th>402</th>\n",
       "      <td>2019-09-20</td>\n",
       "      <td>September</td>\n",
       "      <td>Friday</td>\n",
       "      <td>2019</td>\n",
       "      <td>154</td>\n",
       "      <td>CHC</td>\n",
       "      <td>STL</td>\n",
       "      <td>L</td>\n",
       "      <td>82</td>\n",
       "      <td>72</td>\n",
       "      <td>...</td>\n",
       "      <td>Day</td>\n",
       "      <td>39106</td>\n",
       "      <td>82.0</td>\n",
       "      <td>80.0</td>\n",
       "      <td>77.0</td>\n",
       "      <td>7.0</td>\n",
       "      <td>63.0</td>\n",
       "      <td>42.0</td>\n",
       "      <td>0.2</td>\n",
       "      <td>0.0</td>\n",
       "    </tr>\n",
       "    <tr>\n",
       "      <th>403</th>\n",
       "      <td>2019-09-21</td>\n",
       "      <td>September</td>\n",
       "      <td>Saturday</td>\n",
       "      <td>2019</td>\n",
       "      <td>155</td>\n",
       "      <td>CHC</td>\n",
       "      <td>STL</td>\n",
       "      <td>L</td>\n",
       "      <td>82</td>\n",
       "      <td>73</td>\n",
       "      <td>...</td>\n",
       "      <td>Day</td>\n",
       "      <td>40071</td>\n",
       "      <td>80.0</td>\n",
       "      <td>79.0</td>\n",
       "      <td>75.0</td>\n",
       "      <td>18.0</td>\n",
       "      <td>77.0</td>\n",
       "      <td>75.0</td>\n",
       "      <td>0.8</td>\n",
       "      <td>0.0</td>\n",
       "    </tr>\n",
       "    <tr>\n",
       "      <th>404</th>\n",
       "      <td>2019-09-22</td>\n",
       "      <td>September</td>\n",
       "      <td>Sunday</td>\n",
       "      <td>2019</td>\n",
       "      <td>156</td>\n",
       "      <td>CHC</td>\n",
       "      <td>STL</td>\n",
       "      <td>L</td>\n",
       "      <td>82</td>\n",
       "      <td>74</td>\n",
       "      <td>...</td>\n",
       "      <td>Day</td>\n",
       "      <td>38606</td>\n",
       "      <td>76.0</td>\n",
       "      <td>76.0</td>\n",
       "      <td>71.0</td>\n",
       "      <td>24.0</td>\n",
       "      <td>80.0</td>\n",
       "      <td>95.0</td>\n",
       "      <td>1.8</td>\n",
       "      <td>0.0</td>\n",
       "    </tr>\n",
       "  </tbody>\n",
       "</table>\n",
       "<p>405 rows × 21 columns</p>\n",
       "</div>"
      ],
      "text/plain": [
       "           Date      Month        Day  Season  Gm#   Tm  Opp Win/Loss  \\\n",
       "0    2015-04-05      April     Sunday    2015    1  CHC  STL        L   \n",
       "1    2015-04-08      April  Wednesday    2015    2  CHC  STL        W   \n",
       "2    2015-04-13      April     Monday    2015    6  CHC  CIN        W   \n",
       "3    2015-04-14      April    Tuesday    2015    7  CHC  CIN        L   \n",
       "4    2015-04-15      April  Wednesday    2015    8  CHC  CIN        W   \n",
       "..          ...        ...        ...     ...  ...  ...  ...      ...   \n",
       "400  2019-09-18  September  Wednesday    2019  152  CHC  CIN        L   \n",
       "401  2019-09-19  September   Thursday    2019  153  CHC  STL        L   \n",
       "402  2019-09-20  September     Friday    2019  154  CHC  STL        L   \n",
       "403  2019-09-21  September   Saturday    2019  155  CHC  STL        L   \n",
       "404  2019-09-22  September     Sunday    2019  156  CHC  STL        L   \n",
       "\n",
       "     Season Wins  Season Losses  ...  Day/ Night Game Attendance  \\\n",
       "0              0              1  ...            Night      35055   \n",
       "1              1              1  ...              Day      26814   \n",
       "2              4              2  ...            Night      26390   \n",
       "3              4              3  ...            Night      27525   \n",
       "4              5              3  ...            Night      29205   \n",
       "..           ...            ...  ...              ...        ...   \n",
       "400           82             70  ...            Night      36578   \n",
       "401           82             71  ...            Night      39524   \n",
       "402           82             72  ...              Day      39106   \n",
       "403           82             73  ...              Day      40071   \n",
       "404           82             74  ...              Day      38606   \n",
       "\n",
       "     Temperature (F)  Feels Like (F)  Wind Chill (F)  Wind Gust (mph)  \\\n",
       "0               55.0            42.0            42.0             24.0   \n",
       "1               42.0            35.0            35.0             18.0   \n",
       "2               45.0            37.0            37.0             22.0   \n",
       "3               47.0            37.0            37.0             22.0   \n",
       "4               51.0            41.0            41.0             27.0   \n",
       "..               ...             ...             ...              ...   \n",
       "400             79.0            74.0            73.0             15.0   \n",
       "401             81.0            77.0            74.0             10.0   \n",
       "402             82.0            80.0            77.0              7.0   \n",
       "403             80.0            79.0            75.0             18.0   \n",
       "404             76.0            76.0            71.0             24.0   \n",
       "\n",
       "     Humidity (%)  Cloud Cover (%)  Rain Fall (in)  Snow Fall (cm)  \n",
       "0            61.0             31.0             0.0             0.0  \n",
       "1            93.0             96.0             0.2             0.0  \n",
       "2            80.0             62.0             0.1             0.0  \n",
       "3            85.0             60.0             0.1             0.0  \n",
       "4            80.0             57.0             0.2             0.0  \n",
       "..            ...              ...             ...             ...  \n",
       "400          70.0             18.0             0.0             0.0  \n",
       "401          65.0             33.0             0.0             0.0  \n",
       "402          63.0             42.0             0.2             0.0  \n",
       "403          77.0             75.0             0.8             0.0  \n",
       "404          80.0             95.0             1.8             0.0  \n",
       "\n",
       "[405 rows x 21 columns]"
      ]
     },
     "execution_count": 10,
     "metadata": {},
     "output_type": "execute_result"
    }
   ],
   "source": [
    "# Load Attendance and Game Data\n",
    "cubs = \"Resources/cubs_complete.csv\"\n",
    "\n",
    "# Read Attendance and Game Data\n",
    "cubs_df = pd.read_csv(cubs)\n",
    "cubs_df"
   ]
  },
  {
   "cell_type": "code",
   "execution_count": 11,
   "metadata": {},
   "outputs": [],
   "source": [
    "# (1) Working Weather Cell - Scott (Create All DataFrames and Variables with \"weather_\" prefix)\n",
    "weather_df = cubs_df.copy()"
   ]
  },
  {
   "cell_type": "code",
   "execution_count": null,
   "metadata": {},
   "outputs": [],
   "source": [
    "# (1) Working Weather Cell - Scott (Create All DataFrames and Variables with \"weather_\" prefix)"
   ]
  },
  {
   "cell_type": "code",
   "execution_count": null,
   "metadata": {},
   "outputs": [],
   "source": [
    "# (1) Working Weather Cell - Scott (Create All DataFrames and Variables with \"weather_\" prefix)"
   ]
  },
  {
   "cell_type": "code",
   "execution_count": null,
   "metadata": {},
   "outputs": [],
   "source": [
    "# (1) Working Weather Cell - Scott (Create All DataFrames and Variables with \"weather_\" prefix)"
   ]
  },
  {
   "cell_type": "code",
   "execution_count": null,
   "metadata": {},
   "outputs": [],
   "source": [
    "# (1) Working Weather Cell - Scott (Create All DataFrames and Variables with \"weather_\" prefix)"
   ]
  },
  {
   "cell_type": "code",
   "execution_count": null,
   "metadata": {},
   "outputs": [],
   "source": [
    "# (1) Working Weather Cell - Scott (Create All DataFrames and Variables with \"weather_\" prefix)"
   ]
  },
  {
   "cell_type": "code",
   "execution_count": 12,
   "metadata": {},
   "outputs": [],
   "source": [
    "# (2) Working Performance Cell - Calvin (Create All DataFrames and Variables with \"perf_\" prefix)\n",
    "perf_df = cubs_df.copy()"
   ]
  },
  {
   "cell_type": "code",
   "execution_count": null,
   "metadata": {},
   "outputs": [],
   "source": [
    "# (2) Working Performance Cell - Calvin (Create All DataFrames and Variables with \"perf_\" prefix)"
   ]
  },
  {
   "cell_type": "code",
   "execution_count": null,
   "metadata": {},
   "outputs": [],
   "source": [
    "# (2) Working Performance Cell - Calvin (Create All DataFrames and Variables with \"perf_\" prefix)"
   ]
  },
  {
   "cell_type": "code",
   "execution_count": null,
   "metadata": {},
   "outputs": [],
   "source": [
    "# (2) Working Performance Cell - Calvin (Create All DataFrames and Variables with \"perf_\" prefix)"
   ]
  },
  {
   "cell_type": "code",
   "execution_count": null,
   "metadata": {},
   "outputs": [],
   "source": [
    "# (2) Working Performance Cell - Calvin (Create All DataFrames and Variables with \"perf_\" prefix)"
   ]
  },
  {
   "cell_type": "code",
   "execution_count": null,
   "metadata": {},
   "outputs": [],
   "source": [
    "# (2) Working Performance Cell - Calvin (Create All DataFrames and Variables with \"perf_\" prefix)"
   ]
  },
  {
   "cell_type": "code",
   "execution_count": null,
   "metadata": {},
   "outputs": [],
   "source": [
    "# (2) Working Performance Cell - Calvin (Create All DataFrames and Variables with \"perf_\" prefix)"
   ]
  },
  {
   "cell_type": "code",
   "execution_count": 13,
   "metadata": {},
   "outputs": [],
   "source": [
    "# (3) Working Visiting Team Cell - Sam (Create All DataFrames and Variables with \"visit_\" prefix)\n",
    "visit_df = cubs_df.copy()"
   ]
  },
  {
   "cell_type": "code",
   "execution_count": null,
   "metadata": {},
   "outputs": [],
   "source": [
    "# (3) Working Visiting Team Cell - Sam (Create All DataFrames and Variables with \"visit_\" prefix)"
   ]
  },
  {
   "cell_type": "code",
   "execution_count": null,
   "metadata": {},
   "outputs": [],
   "source": [
    "# (3) Working Visiting Team Cell - Sam (Create All DataFrames and Variables with \"visit_\" prefix)"
   ]
  },
  {
   "cell_type": "code",
   "execution_count": null,
   "metadata": {},
   "outputs": [],
   "source": [
    "# (3) Working Visiting Team Cell - Sam (Create All DataFrames and Variables with \"visit_\" prefix)"
   ]
  },
  {
   "cell_type": "code",
   "execution_count": null,
   "metadata": {},
   "outputs": [],
   "source": [
    "# (3) Working Visiting Team Cell - Sam (Create All DataFrames and Variables with \"visit_\" prefix)"
   ]
  },
  {
   "cell_type": "code",
   "execution_count": null,
   "metadata": {},
   "outputs": [],
   "source": [
    "# (3) Working Visiting Team Cell - Sam (Create All DataFrames and Variables with \"visit_\" prefix)"
   ]
  },
  {
   "cell_type": "code",
   "execution_count": 14,
   "metadata": {},
   "outputs": [],
   "source": [
    "# (4) Working Date Cell - Tiffany (Create All DataFrames and Variables with \"date_\" prefix)\n",
    "date_df = cubs_df.copy()"
   ]
  },
  {
   "cell_type": "code",
   "execution_count": null,
   "metadata": {},
   "outputs": [],
   "source": [
    "# (4) Working Date Cell - Tiffany (Create All DataFrames and Variables with \"date_\" prefix)"
   ]
  },
  {
   "cell_type": "code",
   "execution_count": null,
   "metadata": {},
   "outputs": [],
   "source": [
    "# (4) Working Date Cell - Tiffany (Create All DataFrames and Variables with \"date_\" prefix)"
   ]
  },
  {
   "cell_type": "code",
   "execution_count": null,
   "metadata": {},
   "outputs": [],
   "source": [
    "# (4) Working Date Cell - Tiffany (Create All DataFrames and Variables with \"date_\" prefix)"
   ]
  },
  {
   "cell_type": "code",
   "execution_count": null,
   "metadata": {},
   "outputs": [],
   "source": [
    "# (4) Working Date Cell - Tiffany (Create All DataFrames and Variables with \"date_\" prefix)"
   ]
  },
  {
   "cell_type": "code",
   "execution_count": null,
   "metadata": {},
   "outputs": [],
   "source": [
    "# (4) Working Date Cell - Tiffany (Create All DataFrames and Variables with \"date_\" prefix)"
   ]
  }
 ],
 "metadata": {
  "kernelspec": {
   "display_name": "Python 3.7.6 64-bit ('PythonData': conda)",
   "language": "python",
   "name": "python37664bitpythondataconda2b8880efb6d34b3eb0c55c8cee5b9b98"
  },
  "language_info": {
   "codemirror_mode": {
    "name": "ipython",
    "version": 3
   },
   "file_extension": ".py",
   "mimetype": "text/x-python",
   "name": "python",
   "nbconvert_exporter": "python",
   "pygments_lexer": "ipython3",
   "version": "3.7.6"
  }
 },
 "nbformat": 4,
 "nbformat_minor": 4
}
